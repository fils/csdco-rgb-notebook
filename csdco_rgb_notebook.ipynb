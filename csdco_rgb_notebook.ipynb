{
  "nbformat": 4,
  "nbformat_minor": 0,
  "metadata": {
    "colab": {
      "name": "csdco-rgb-notebook.ipynb",
      "provenance": [],
      "authorship_tag": "ABX9TyOEp0GeoED+wRXBObPq4VeK",
      "include_colab_link": true
    },
    "kernelspec": {
      "name": "python3",
      "display_name": "Python 3"
    }
  },
  "cells": [
    {
      "cell_type": "markdown",
      "metadata": {
        "id": "view-in-github",
        "colab_type": "text"
      },
      "source": [
        "<a href=\"https://colab.research.google.com/github/fils/csdco-rgb-notebook/blob/main/csdco_rgb_notebook.ipynb\" target=\"_parent\"><img src=\"https://colab.research.google.com/assets/colab-badge.svg\" alt=\"Open In Colab\"/></a>"
      ]
    },
    {
      "cell_type": "markdown",
      "metadata": {
        "id": "39CTvQqfAAVU"
      },
      "source": [
        "## CSDCO Demo 1\n"
      ]
    },
    {
      "cell_type": "markdown",
      "metadata": {
        "id": "P45qvryyAL1s"
      },
      "source": [
        "### Installs"
      ]
    },
    {
      "cell_type": "code",
      "metadata": {
        "id": "wEaHIr-B_9fu"
      },
      "source": [
        "%%capture\n",
        "#@title\n",
        "!apt-get install libproj-dev proj-data proj-bin -qq\n",
        "!apt-get install libgeos-dev -qq\n",
        "!pip install -q cython\n",
        "!pip install -q cartopy\n",
        "!pip install -q SPARQLWrapper\n",
        "!pip install -q rdflib==4.2.2\n",
        "!pip install -q geopandas\n",
        "!pip install -q contextily==1.0rc2\n",
        "!pip install -q rdflib-jsonld==0.5.0"
      ],
      "execution_count": null,
      "outputs": []
    },
    {
      "cell_type": "markdown",
      "metadata": {
        "id": "JQjhHcH-AbFH"
      },
      "source": [
        "### Imports"
      ]
    },
    {
      "cell_type": "code",
      "metadata": {
        "id": "odIPkmnwARzZ"
      },
      "source": [
        "from SPARQLWrapper import SPARQLWrapper, JSON\n",
        "import pandas as pd\n",
        "import numpy as np\n",
        "import json\n",
        "import geopandas\n",
        "import matplotlib.pyplot as plt\n",
        "import shapely\n",
        "\n",
        "dbsparql = \"http://dbpedia.org/sparql\"\n",
        "ocd = \"http://graph.opencoredata.org/blazegraph/namespace/ocd/sparql\""
      ],
      "execution_count": null,
      "outputs": []
    },
    {
      "cell_type": "markdown",
      "metadata": {
        "id": "VPCguN7dQnVz"
      },
      "source": [
        "### Helping function(s)\n",
        "The following block is a SPARQL to Pandas feature.  You may need to run it to load the function per standard notebook actions."
      ]
    },
    {
      "cell_type": "code",
      "metadata": {
        "id": "KlU0kr2R00i_",
        "cellView": "both"
      },
      "source": [
        "#@title\n",
        "def get_sparql_dataframe(service, query):\n",
        "    \"\"\"\n",
        "    Helper function to convert SPARQL results into a Pandas data frame.\n",
        "    \"\"\"\n",
        "    sparql = SPARQLWrapper(service)\n",
        "    sparql.setQuery(query)\n",
        "    sparql.setReturnFormat(JSON)\n",
        "    result = sparql.query()\n",
        "\n",
        "    processed_results = json.load(result.response)\n",
        "    cols = processed_results['head']['vars']\n",
        "\n",
        "    out = []\n",
        "    for row in processed_results['results']['bindings']:\n",
        "        item = []\n",
        "        for c in cols:\n",
        "            item.append(row.get(c, {}).get('value'))\n",
        "        out.append(item)\n",
        "\n",
        "    return pd.DataFrame(out, columns=cols)"
      ],
      "execution_count": null,
      "outputs": []
    },
    {
      "cell_type": "markdown",
      "metadata": {
        "id": "gF-jNcIplO3X"
      },
      "source": [
        "### Set PD frame options"
      ]
    },
    {
      "cell_type": "code",
      "metadata": {
        "id": "Nkiij1wElRrf",
        "outputId": "bcd2440a-ab6c-4528-eb4f-0f54faf52cf3",
        "colab": {
          "base_uri": "https://localhost:8080/",
          "height": 72
        }
      },
      "source": [
        "pd.set_option('display.max_rows', None)\n",
        "pd.set_option('display.max_columns', None)\n",
        "pd.set_option('display.width', None)\n",
        "pd.set_option('display.max_colwidth', -1)"
      ],
      "execution_count": null,
      "outputs": [
        {
          "output_type": "stream",
          "text": [
            "/usr/local/lib/python3.6/dist-packages/ipykernel_launcher.py:4: FutureWarning: Passing a negative integer is deprecated in version 1.0 and will not be supported in future version. Instead, use None to not limit the column width.\n",
            "  after removing the cwd from sys.path.\n"
          ],
          "name": "stderr"
        }
      ]
    },
    {
      "cell_type": "markdown",
      "metadata": {
        "id": "0rCWi2ipFxf8"
      },
      "source": [
        "## Search in the notebook\n",
        "\n",
        "This would be hidden in a form and the query would not be open.  However, people could start to play with the raw search too as they get comfortable with the graph"
      ]
    },
    {
      "cell_type": "code",
      "metadata": {
        "id": "_nKKDPXZAqou"
      },
      "source": [
        "rq1 = \"\"\"\n",
        "prefix schema: <https://schema.org/> \n",
        "SELECT DISTINCT ?name ?lit ?description ?type ?score ?s \n",
        "WHERE \n",
        "{   \n",
        "  ?lit bds:search \" RGB Image Data PLJV\" .   \n",
        "  ?lit bds:matchAllTerms \"false\" .   \n",
        "  ?lit bds:relevance ?score .   \n",
        "  ?s ?p ?lit .   \n",
        "  ?s schema:name ?name .   \n",
        "  ?s schema:description ?description .    \n",
        "  ?s rdf:type ?type . \n",
        "} \n",
        "ORDER BY DESC(?score) \n",
        "\"\"\"\n",
        "\n",
        "dfrq1 = get_sparql_dataframe(ocd, rq1)"
      ],
      "execution_count": null,
      "outputs": []
    },
    {
      "cell_type": "markdown",
      "metadata": {
        "id": "MFS63xDZF_9f"
      },
      "source": [
        "Take a look at the search results...   need to improve this a bit.  Also, people can search o the web site and simply pull file references from there too."
      ]
    },
    {
      "cell_type": "code",
      "metadata": {
        "id": "CQzpM6PBBJ2X",
        "outputId": "e9c2aa46-befb-4fc8-8a3f-6188b0900aef",
        "colab": {
          "base_uri": "https://localhost:8080/",
          "height": 783
        }
      },
      "source": [
        "dfrq1.head()"
      ],
      "execution_count": null,
      "outputs": [
        {
          "output_type": "execute_result",
          "data": {
            "text/html": [
              "<div>\n",
              "<style scoped>\n",
              "    .dataframe tbody tr th:only-of-type {\n",
              "        vertical-align: middle;\n",
              "    }\n",
              "\n",
              "    .dataframe tbody tr th {\n",
              "        vertical-align: top;\n",
              "    }\n",
              "\n",
              "    .dataframe thead th {\n",
              "        text-align: right;\n",
              "    }\n",
              "</style>\n",
              "<table border=\"1\" class=\"dataframe\">\n",
              "  <thead>\n",
              "    <tr style=\"text-align: right;\">\n",
              "      <th></th>\n",
              "      <th>name</th>\n",
              "      <th>lit</th>\n",
              "      <th>description</th>\n",
              "      <th>type</th>\n",
              "      <th>score</th>\n",
              "      <th>s</th>\n",
              "    </tr>\n",
              "  </thead>\n",
              "  <tbody>\n",
              "    <tr>\n",
              "      <th>0</th>\n",
              "      <td>PLJV-CA1012-2A-4S-1.csv</td>\n",
              "      <td>Digital object of type RGB Image Data named PLJV-CA1012-2A-4S-1.csv for CSDCO project PLJV</td>\n",
              "      <td>Digital object of type RGB Image Data named PLJV-CA1012-2A-4S-1.csv for CSDCO project PLJV</td>\n",
              "      <td>http://www.schema.org/DigitalDocument</td>\n",
              "      <td>0.546875</td>\n",
              "      <td>https://opencoredata.org/id/csdco/do/05c1397d8e672e64b09d34d17f912607df71163a103327c6c1eb05f10ac7730a</td>\n",
              "    </tr>\n",
              "    <tr>\n",
              "      <th>1</th>\n",
              "      <td>PLJV-LE312-2A-2S-1.csv</td>\n",
              "      <td>Digital object of type RGB Image Data named PLJV-LE312-2A-2S-1.csv for CSDCO project PLJV</td>\n",
              "      <td>Digital object of type RGB Image Data named PLJV-LE312-2A-2S-1.csv for CSDCO project PLJV</td>\n",
              "      <td>http://www.schema.org/DigitalDocument</td>\n",
              "      <td>0.546875</td>\n",
              "      <td>https://opencoredata.org/id/csdco/do/11956476e3c27d20ec850d73103da73d2b327b6a9cff7f9b9fae99137569d2b9</td>\n",
              "    </tr>\n",
              "    <tr>\n",
              "      <th>2</th>\n",
              "      <td>PLJV-CA712-1A-3S-1.csv</td>\n",
              "      <td>Digital object of type RGB Image Data named PLJV-CA712-1A-3S-1.csv for CSDCO project PLJV</td>\n",
              "      <td>Digital object of type RGB Image Data named PLJV-CA712-1A-3S-1.csv for CSDCO project PLJV</td>\n",
              "      <td>http://www.schema.org/DigitalDocument</td>\n",
              "      <td>0.546875</td>\n",
              "      <td>https://opencoredata.org/id/csdco/do/1684cecaf22ec9ca2751f312afcc839a72b2f084176662f40f14000658d6878b</td>\n",
              "    </tr>\n",
              "    <tr>\n",
              "      <th>3</th>\n",
              "      <td>PLJV-LE1312-1A-6S-1.csv</td>\n",
              "      <td>Digital object of type RGB Image Data named PLJV-LE1312-1A-6S-1.csv for CSDCO project PLJV</td>\n",
              "      <td>Digital object of type RGB Image Data named PLJV-LE1312-1A-6S-1.csv for CSDCO project PLJV</td>\n",
              "      <td>http://www.schema.org/DigitalDocument</td>\n",
              "      <td>0.546875</td>\n",
              "      <td>https://opencoredata.org/id/csdco/do/19b72a21b5e8a887b70d726f1a1073f9e8bf8f2518484f39560488eeb2637997</td>\n",
              "    </tr>\n",
              "    <tr>\n",
              "      <th>4</th>\n",
              "      <td>PLJV-LE1212-1A-2S-1.csv</td>\n",
              "      <td>Digital object of type RGB Image Data named PLJV-LE1212-1A-2S-1.csv for CSDCO project PLJV</td>\n",
              "      <td>Digital object of type RGB Image Data named PLJV-LE1212-1A-2S-1.csv for CSDCO project PLJV</td>\n",
              "      <td>http://www.schema.org/DigitalDocument</td>\n",
              "      <td>0.546875</td>\n",
              "      <td>https://opencoredata.org/id/csdco/do/1e7152be95080dda776f5df3ee81266aaad441d0c9f46dce1c6039ece548234d</td>\n",
              "    </tr>\n",
              "  </tbody>\n",
              "</table>\n",
              "</div>"
            ],
            "text/plain": [
              "                      name  \\\n",
              "0  PLJV-CA1012-2A-4S-1.csv   \n",
              "1  PLJV-LE312-2A-2S-1.csv    \n",
              "2  PLJV-CA712-1A-3S-1.csv    \n",
              "3  PLJV-LE1312-1A-6S-1.csv   \n",
              "4  PLJV-LE1212-1A-2S-1.csv   \n",
              "\n",
              "                                                                                          lit  \\\n",
              "0  Digital object of type RGB Image Data named PLJV-CA1012-2A-4S-1.csv for CSDCO project PLJV   \n",
              "1  Digital object of type RGB Image Data named PLJV-LE312-2A-2S-1.csv for CSDCO project PLJV    \n",
              "2  Digital object of type RGB Image Data named PLJV-CA712-1A-3S-1.csv for CSDCO project PLJV    \n",
              "3  Digital object of type RGB Image Data named PLJV-LE1312-1A-6S-1.csv for CSDCO project PLJV   \n",
              "4  Digital object of type RGB Image Data named PLJV-LE1212-1A-2S-1.csv for CSDCO project PLJV   \n",
              "\n",
              "                                                                                  description  \\\n",
              "0  Digital object of type RGB Image Data named PLJV-CA1012-2A-4S-1.csv for CSDCO project PLJV   \n",
              "1  Digital object of type RGB Image Data named PLJV-LE312-2A-2S-1.csv for CSDCO project PLJV    \n",
              "2  Digital object of type RGB Image Data named PLJV-CA712-1A-3S-1.csv for CSDCO project PLJV    \n",
              "3  Digital object of type RGB Image Data named PLJV-LE1312-1A-6S-1.csv for CSDCO project PLJV   \n",
              "4  Digital object of type RGB Image Data named PLJV-LE1212-1A-2S-1.csv for CSDCO project PLJV   \n",
              "\n",
              "                                    type     score  \\\n",
              "0  http://www.schema.org/DigitalDocument  0.546875   \n",
              "1  http://www.schema.org/DigitalDocument  0.546875   \n",
              "2  http://www.schema.org/DigitalDocument  0.546875   \n",
              "3  http://www.schema.org/DigitalDocument  0.546875   \n",
              "4  http://www.schema.org/DigitalDocument  0.546875   \n",
              "\n",
              "                                                                                                       s  \n",
              "0  https://opencoredata.org/id/csdco/do/05c1397d8e672e64b09d34d17f912607df71163a103327c6c1eb05f10ac7730a  \n",
              "1  https://opencoredata.org/id/csdco/do/11956476e3c27d20ec850d73103da73d2b327b6a9cff7f9b9fae99137569d2b9  \n",
              "2  https://opencoredata.org/id/csdco/do/1684cecaf22ec9ca2751f312afcc839a72b2f084176662f40f14000658d6878b  \n",
              "3  https://opencoredata.org/id/csdco/do/19b72a21b5e8a887b70d726f1a1073f9e8bf8f2518484f39560488eeb2637997  \n",
              "4  https://opencoredata.org/id/csdco/do/1e7152be95080dda776f5df3ee81266aaad441d0c9f46dce1c6039ece548234d  "
            ]
          },
          "metadata": {
            "tags": []
          },
          "execution_count": 22
        }
      ]
    },
    {
      "cell_type": "markdown",
      "metadata": {
        "id": "kEAgPL8VBw47"
      },
      "source": [
        "## Load a CSDCO / Open Core object into a dataframe\n",
        "\n",
        "Let's sat we did a search and found some files we want to try.   We can load CSV, images, and other various formats.  CSV is easy though, so lets start there.  We will load the file into a Pandas data frame.  You could make custom loaders for known types too.  This RGB example requires me to skip header lines for instance. \n"
      ]
    },
    {
      "cell_type": "markdown",
      "metadata": {
        "id": "21V_ZTKEFSPA"
      },
      "source": [
        "Our CSV has some header info..   we will need to skip some lines"
      ]
    },
    {
      "cell_type": "code",
      "metadata": {
        "id": "vJzR2In2Gxk1"
      },
      "source": [
        "file = \"https://opencoredata.org/id/csdco/do/1a4b80ab31515d8bb6e4405ff8c7016d767a139912bd2503457be03f78a3ca7e\""
      ],
      "execution_count": null,
      "outputs": []
    },
    {
      "cell_type": "markdown",
      "metadata": {
        "id": "zMU5dFWxJyjL"
      },
      "source": [
        "Let's look at the top of our files to check it..."
      ]
    },
    {
      "cell_type": "code",
      "metadata": {
        "id": "7wxOx38dGvmX"
      },
      "source": [
        "from urllib.request import urlopen\n",
        "data = urlopen(file).read().decode('utf-8')\n",
        "\n",
        "lines = data.split('\\n')\n",
        "for i in range(10):\n",
        "  print(lines[i])"
      ],
      "execution_count": null,
      "outputs": []
    },
    {
      "cell_type": "markdown",
      "metadata": {
        "id": "NaguVQ1NJ2QS"
      },
      "source": [
        "Looks like we need to skip a few lines to get to our data. "
      ]
    },
    {
      "cell_type": "code",
      "metadata": {
        "id": "jF5EluI_BNOL"
      },
      "source": [
        "dff1 = pd.read_csv(file, skiprows=8)  "
      ],
      "execution_count": null,
      "outputs": []
    },
    {
      "cell_type": "code",
      "metadata": {
        "id": "VCO_mS2SETMk"
      },
      "source": [
        "dff1.info()  # Take a look at the line count and column types"
      ],
      "execution_count": null,
      "outputs": []
    },
    {
      "cell_type": "code",
      "metadata": {
        "id": "CB0RBZ4KCCwY"
      },
      "source": [
        "dff1.head()  # just a quick check to see if we got the right stuff.  "
      ],
      "execution_count": null,
      "outputs": []
    },
    {
      "cell_type": "markdown",
      "metadata": {
        "id": "3_CsYTYtFN8n"
      },
      "source": [
        "We can so a quick plot then"
      ]
    },
    {
      "cell_type": "code",
      "metadata": {
        "id": "9kvvusTMCk1k",
        "outputId": "72268625-dd7f-4b1f-aa42-471f93473089",
        "colab": {
          "base_uri": "https://localhost:8080/",
          "height": 297
        }
      },
      "source": [
        "dff1.plot(x='Depth (cm)', y=['R', 'G', 'B'])"
      ],
      "execution_count": null,
      "outputs": [
        {
          "output_type": "execute_result",
          "data": {
            "text/plain": [
              "<matplotlib.axes._subplots.AxesSubplot at 0x7f11d48e7b00>"
            ]
          },
          "metadata": {
            "tags": []
          },
          "execution_count": 48
        },
        {
          "output_type": "display_data",
          "data": {
            "image/png": "[encoded data removed]",
            "text/plain": [
              "<Figure size 432x288 with 1 Axes>"
            ]
          },
          "metadata": {
            "tags": [],
            "needs_background": "light"
          }
        }
      ]
    },
    {
      "cell_type": "markdown",
      "metadata": {
        "id": "TR4Unk9KE9-c"
      },
      "source": [
        "We can slice off the end to see what is up with the data at the end.   Looks like the spike is some sort of instrument event the researcher might need to clean up before using the file?"
      ]
    },
    {
      "cell_type": "code",
      "metadata": {
        "id": "wT9vAtAkC2_h",
        "outputId": "7ab6eb31-6f71-4e06-e0b1-102033c7f5d2",
        "colab": {
          "base_uri": "https://localhost:8080/",
          "height": 297
        }
      },
      "source": [
        "dff1.iloc[12000:14000].plot(x='Depth (cm)', y=['R', 'G', 'B'])\n"
      ],
      "execution_count": null,
      "outputs": [
        {
          "output_type": "execute_result",
          "data": {
            "text/plain": [
              "<matplotlib.axes._subplots.AxesSubplot at 0x7f11d48d6400>"
            ]
          },
          "metadata": {
            "tags": []
          },
          "execution_count": 49
        },
        {
          "output_type": "display_data",
          "data": {
            "image/png": "[encoded data removed]",
            "text/plain": [
              "<Figure size 432x288 with 1 Axes>"
            ]
          },
          "metadata": {
            "tags": [],
            "needs_background": "light"
          }
        }
      ]
    },
    {
      "cell_type": "code",
      "metadata": {
        "id": "ahRS9oLpEcv2"
      },
      "source": [
        ""
      ],
      "execution_count": null,
      "outputs": []
    }
  ]
}